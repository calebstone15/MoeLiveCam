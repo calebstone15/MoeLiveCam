{
 "cells": [
  {
   "cell_type": "code",
   "execution_count": 2,
   "id": "dd50d2bf",
   "metadata": {},
   "outputs": [
    {
     "name": "stdout",
     "output_type": "stream",
     "text": [
      "\n",
      "Doppler Frequency Shift:\n",
      "28920.01 Hz\n",
      "0.000028920 GHz\n"
     ]
    }
   ],
   "source": [
    "# Doppler Effect Calculator\n",
    "import numpy as np\n",
    "\n",
    "# Speed of light in m/s\n",
    "c = 299792458  \n",
    "\n",
    "# Assume perfect tracking (angle = 0 degrees)\n",
    "angle_radians = 0  # Perfect alignment\n",
    "\n",
    "\n",
    "def calculate_doppler():\n",
    "    v_target = float(input(\"Enter target velocity (m/s): \"))\n",
    "    f_transmitted = float(input(\"Enter transmitted frequency (Hz): \"))\n",
    "    \n",
    "    # Calculate Doppler frequency shift\n",
    "    f_doppler = 2 * v_target * np.cos(angle_radians) * (f_transmitted / c)\n",
    "    \n",
    "    # Display results\n",
    "    print(f\"\\nDoppler Frequency Shift:\")\n",
    "    print(f\"{f_doppler:.2f} Hz\")\n",
    "    print(f\"{f_doppler/1e9:.9f} GHz\")\n",
    "\n",
    "\n",
    "calculate_doppler()"
   ]
  },
  {
   "cell_type": "markdown",
   "id": "4f863a90",
   "metadata": {},
   "source": [
    "# Doppler Effect Calculator\n",
    "\n",
    "This calculator implements the following formula for Doppler frequency shift:\n",
    "\n",
    "$$f_{Doppler} = 2 \\cdot V_{MovingTarget} \\cdot \\cos(\\theta) \\cdot \\frac{f_{Transmitted}}{c} [Hz]$$\n",
    "\n",
    "Where:\n",
    "- $V_{MovingTarget}$ is the velocity of the moving target (Moe) (m/s)\n",
    "- $\\theta$ is the angle between the direction of movement and the observation point (assumed to be 0 degrees for perfect tracking)\n",
    "- $f_{Transmitted}$ is the transmitted frequency (Hz)\n",
    "- $c$ is the speed of light (299,792,458 m/s)\n",
    "\n",
    "The result is displayed in:\n",
    "- **Hertz (Hz)**: The base unit of frequency.\n",
    "- **Gigahertz (GHz)**: 1 GHz = 10⁹ Hz.\n",
    "\n",
    "For example:\n",
    "- A frequency of 1,000,000 Hz is equivalent to 1 MHz.\n",
    "- A frequency of 1,000,000,000 Hz is equivalent to 1 GHz.\n",
    "\n",
    "The size of the band availiable for transmitting is "
   ]
  }
 ],
 "metadata": {
  "kernelspec": {
   "display_name": "Python (myenv)",
   "language": "python",
   "name": "myenv"
  },
  "language_info": {
   "codemirror_mode": {
    "name": "ipython",
    "version": 3
   },
   "file_extension": ".py",
   "mimetype": "text/x-python",
   "name": "python",
   "nbconvert_exporter": "python",
   "pygments_lexer": "ipython3",
   "version": "3.13.5"
  }
 },
 "nbformat": 4,
 "nbformat_minor": 5
}
